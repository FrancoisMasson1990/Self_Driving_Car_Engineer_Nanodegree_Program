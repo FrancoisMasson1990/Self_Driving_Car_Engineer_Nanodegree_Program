{
 "cells": [
  {
   "cell_type": "code",
   "execution_count": 1,
   "metadata": {},
   "outputs": [],
   "source": [
    "\"\"\"Visualizations.ipynb: Box Detection\"\"\" \n",
    "\n",
    "import cv2\n",
    "import numpy as np\n",
    "\n",
    "def draw_lane_status(frame, lane_info, threshold_offset = 0.6):\n",
    "\n",
    "    font = cv2.FONT_HERSHEY_SIMPLEX\n",
    "    info_road = \"Lane Status\"\n",
    "    info_lane = \"Direction: {0}\".format(lane_info['curve_direction'])\n",
    "    info_cur = \"Curvature {:6.1f} m\".format(lane_info['curvature'])\n",
    "    info_offset = \"Off center: {0} {1:3.1f}m\".format(lane_info['dev_dir'], lane_info['offset'])\n",
    "\n",
    "    l_uper = (10,10)\n",
    "\n",
    "    cv2.line(frame,(l_uper[0] + 265,0),(l_uper[0] + 265,155),(255,0,0),5)\n",
    "\n",
    "    cv2.putText(frame, info_road, (50,32+5), font, 0.8, (255,255,0), 2,cv2.LINE_AA)\n",
    "    cv2.putText(frame, info_lane, (16,60+10), font, 0.6, (255,255,0), 1,cv2.LINE_AA)\n",
    "    cv2.putText(frame, info_cur, (16,80+25), font, 0.6, (255,255,0), 1,cv2.LINE_AA)\n",
    "\n",
    "    if lane_info['offset'] >= threshold_offset:\n",
    "        cv2.putText(frame, info_offset, (16,100+40), font, 0.6, (255,0,0), 1,cv2.LINE_AA)\n",
    "    else:\n",
    "        cv2.putText(frame, info_offset, (16,100+40), font, 0.6, (255,255,0), 1,cv2.LINE_AA)\n",
    "\n",
    "def draw_speed(img_cp, fps, w):\n",
    "\n",
    "    fps_info = \"{0:4.1f} fps\".format(fps)\n",
    "    cv2.putText(img_cp, 'Speed', (w - 120,37), cv2.FONT_HERSHEY_SIMPLEX, 0.8, (255,255,0), 2, cv2.LINE_AA)\n",
    "    cv2.putText(img_cp, fps_info, (w - 130,100), cv2.FONT_HERSHEY_SIMPLEX, 0.8, (255,255,0), 1, cv2.LINE_AA)\n",
    "    cv2.line(img_cp,(w-160,0),(w-160,155),(255,0,0),5)\n",
    "\n",
    "\n",
    "def draw_thumbnails(img_cp, img, window_list, thumb_w=100, thumb_h=80, off_x=30, off_y=30):\n",
    "\n",
    "    cv2.putText(img_cp, 'Detected vehicles', (400,37), cv2.FONT_HERSHEY_SIMPLEX, 0.8, (255,255,0), 2, cv2.LINE_AA)\n",
    "    for i, bbox in enumerate(window_list):\n",
    "        thumbnail = img[bbox[0][1]:bbox[1][1], bbox[0][0]:bbox[1][0]]\n",
    "        vehicle_thumb = cv2.resize(thumbnail, dsize=(thumb_w, thumb_h))\n",
    "        start_x = 300 + (i+1) * off_x + i * thumb_w\n",
    "        img_cp[off_y + 30:off_y + thumb_h + 30, start_x:start_x + thumb_w, :] = vehicle_thumb\n",
    "\n",
    "\n",
    "def draw_background_highlight(image, draw_img, w):\n",
    "\n",
    "    mask = cv2.rectangle(np.copy(image), (0, 0), (w, 155), (0, 0, 0), thickness=cv2.FILLED)\n",
    "    draw_img = cv2.addWeighted(src1=mask, alpha=0.3, src2=draw_img, beta=0.8, gamma=0)\n",
    "\n",
    "    return draw_img"
   ]
  },
  {
   "cell_type": "code",
   "execution_count": null,
   "metadata": {},
   "outputs": [],
   "source": []
  }
 ],
 "metadata": {
  "kernelspec": {
   "display_name": "Python 3",
   "language": "python",
   "name": "python3"
  },
  "language_info": {
   "codemirror_mode": {
    "name": "ipython",
    "version": 3
   },
   "file_extension": ".py",
   "mimetype": "text/x-python",
   "name": "python",
   "nbconvert_exporter": "python",
   "pygments_lexer": "ipython3",
   "version": "3.6.5"
  }
 },
 "nbformat": 4,
 "nbformat_minor": 2
}
